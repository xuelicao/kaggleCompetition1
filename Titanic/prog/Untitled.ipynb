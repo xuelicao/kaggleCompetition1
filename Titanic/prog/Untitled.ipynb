{
 "cells": [
  {
   "cell_type": "code",
   "execution_count": null,
   "metadata": {},
   "outputs": [],
   "source": [
    "#feature engineerinng- gnerateing new features by inlcuding interaciton between categorical variables.\n",
    "import itertools\n",
    "cat_features = ['Age_band', 'Sex', 'Embarked','Initial','Fare_cat','Pclass','Alone']\n",
    "interactions = pd.DataFrame(index=data.index)\n",
    "for col1, col2 in itertools.combinations(cat_features, 2):\n",
    "    new_col_name = '_'.join([col1, col2])\n",
    "    # Convert to strings and combine\n",
    "    new_values = data[col1].map(str) + \"_\" + data[col2].map(str)\n",
    "    label_enc = LabelEncoder()\n",
    "    interactions[new_col_name] = label_enc.fit_transform(new_values)\n",
    "data = data.join(interactions)\n"
   ]
  },
  {
   "cell_type": "code",
   "execution_count": null,
   "metadata": {},
   "outputs": [],
   "source": [
    "# data standardization with  sklearn\n",
    "from sklearn.preprocessing import StandardScaler\n",
    "\n",
    "# copy of datasets\n",
    "train_df_stand = data.copy()\n",
    "\n",
    "\n",
    "# numerical features\n",
    "num_cols = ['Fare','Age','Parch','SibSp','Family_Size']\n",
    "\n",
    "# apply standardization on numerical features\n",
    "for i in num_cols:\n",
    "    \n",
    "    # fit on training data column\n",
    "    scale = StandardScaler().fit(train_df_stand[[i]])\n",
    "    \n",
    "    # transform the training data column\n",
    "    train_df_stand[i] = scale.transform(train_df_stand[[i]])"
   ]
  },
  {
   "cell_type": "code",
   "execution_count": null,
   "metadata": {},
   "outputs": [],
   "source": [
    "#feature engineering -drop unused features\n",
    "train_df_stand.drop(['Cabin'],axis=1,inplace=True)\n",
    "# sns.heatmap(train_df.corr(),annot=True,cmap='RdYlGn',linewidths=0.2,annot_kws={'size':20})\n",
    "# fig=plt.gcf()\n",
    "# fig.set_size_inches(18,15)\n",
    "# plt.xticks(fontsize=14)\n",
    "# plt.yticks(fontsize=14)\n",
    "# plt.show()"
   ]
  }
 ],
 "metadata": {
  "kernelspec": {
   "display_name": "Python 3",
   "language": "python",
   "name": "python3"
  },
  "language_info": {
   "codemirror_mode": {
    "name": "ipython",
    "version": 3
   },
   "file_extension": ".py",
   "mimetype": "text/x-python",
   "name": "python",
   "nbconvert_exporter": "python",
   "pygments_lexer": "ipython3",
   "version": "3.7.0"
  }
 },
 "nbformat": 4,
 "nbformat_minor": 2
}
